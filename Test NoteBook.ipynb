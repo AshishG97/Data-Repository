{
    "cells": [
        {
            "cell_type": "markdown",
            "metadata": {
                "collapsed": true
            },
            "source": "# My Jupyter Notebook on IBM Watson Studio"
        },
        {
            "cell_type": "markdown",
            "metadata": {},
            "source": "**Ashish Yadav**"
        },
        {
            "cell_type": "markdown",
            "metadata": {},
            "source": "_I am interested in data science because I love to Play with the Data and Gaining some Insights from that Data_"
        },
        {
            "cell_type": "markdown",
            "metadata": {},
            "source": "### The Code below this line prints the sum two numbers"
        },
        {
            "cell_type": "code",
            "execution_count": 1,
            "metadata": {},
            "outputs": [
                {
                    "name": "stdout",
                    "output_type": "stream",
                    "text": "14\n"
                }
            ],
            "source": "def sum(a, b):\n    return a + b\nprint(sum(4, 10))"
        },
        {
            "cell_type": "markdown",
            "metadata": {},
            "source": "[this is a link to Google](https://www.google.com/)\n_________________________________________________________\n1. One\n2. Two\n3. Three\n_________________________________________________________\n* One\n* Two\n* Three"
        }
    ],
    "metadata": {
        "kernelspec": {
            "display_name": "Python 3.9",
            "language": "python",
            "name": "python3"
        },
        "language_info": {
            "codemirror_mode": {
                "name": "ipython",
                "version": 3
            },
            "file_extension": ".py",
            "mimetype": "text/x-python",
            "name": "python",
            "nbconvert_exporter": "python",
            "pygments_lexer": "ipython3",
            "version": "3.9.12"
        }
    },
    "nbformat": 4,
    "nbformat_minor": 1
}